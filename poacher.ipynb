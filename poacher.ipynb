{
 "cells": [
  {
   "cell_type": "markdown",
   "id": "15acea13",
   "metadata": {},
   "source": [
    "# E30 - Lincolnshire Poacher numbers station simulator\n",
    "\n",
    "\n",
    "Messages are normalized to Crockford base32 (`0123456789ABCDEFGHJKMNPQRSTVWXYZ`)\n",
    "Groups of 3 letters are combined to make a 15 bit group\n",
    "Bits are xored with a one time pad\n",
    "15 bit groups (total of 32768 possible combinations) are mapped to a 5 digit group (100000 combinations) using a multiplier and modulus\n",
    "\n",
    "Messages are sent in this format:\n",
    "\n",
    "```\n",
    "P = \"The Lincolnshire Poacher song\"\n",
    "C = \"chime\"\n",
    "\n",
    "\n",
    "P P `pad_num` C `encrypted number groups` C P\n",
    "```\n",
    "\n",
    "https://en.wikipedia.org/wiki/Lincolnshire_Poacher_(numbers_station)\n",
    "\n"
   ]
  },
  {
   "cell_type": "markdown",
   "id": "2cfa2931",
   "metadata": {},
   "source": [
    "Start with initializing some common data and load the provided one time pad book (you should generate your own, see below)"
   ]
  },
  {
   "cell_type": "code",
   "execution_count": null,
   "id": "325571aa",
   "metadata": {},
   "outputs": [],
   "source": [
    "from textwrap import wrap\n",
    "import os\n",
    "import sys\n",
    "import time\n",
    "import base32_crockford\n",
    "\n",
    "multiplier = 165321\n",
    "\n",
    "group_table_send = {}\n",
    "group_table_receive = {}\n",
    "\n",
    "for num in range(0, 2**15):\n",
    "    group_table_send.update({format(num, '015b'): format(divmod(num * multiplier, 100000)[1], '05')})\n",
    "    group_table_receive.update({format(divmod(num * multiplier, 100000)[1], '05'): format(num, '015b')})\n",
    "\n",
    "with open(\"pad.txt\", \"r\") as f:\n",
    "    pads = f.readlines()    "
   ]
  },
  {
   "cell_type": "markdown",
   "id": "a6674ce5",
   "metadata": {},
   "source": [
    "Run this next bit to generate your very own one time pad book"
   ]
  },
  {
   "cell_type": "code",
   "execution_count": null,
   "id": "e3896358",
   "metadata": {
    "scrolled": true
   },
   "outputs": [],
   "source": [
    "'''generate one time pad book'''\n",
    "import random\n",
    "with open(\"pad.txt\", \"w+\") as f:\n",
    "    for pad_num in range(0, 100000):\n",
    "        pad = \"\"\n",
    "        for _ in range(0,256):\n",
    "\n",
    "            pad += base32_crockford.encode(format(random.randint(0,31)))\n",
    "        f.write(pad + \"\\n\")"
   ]
  },
  {
   "cell_type": "markdown",
   "id": "734ba600",
   "metadata": {},
   "source": [
    "Select a `pad_num` and put your secret message in `plaintext`"
   ]
  },
  {
   "cell_type": "code",
   "execution_count": null,
   "id": "e99e34f8",
   "metadata": {},
   "outputs": [],
   "source": [
    "'''encoder'''\n",
    "\n",
    "pad_num = 23453\n",
    "plaintext = \"what even is a plate of beets\"\n",
    "\n",
    "pad = list(pads[pad_num]) \n",
    "\n",
    "plaintext_sanitized = plaintext.replace(\"u\", \"v\").replace(\" \", \"\")\n",
    "plaintext_normalized = base32_crockford.normalize(plaintext_sanitized)\n",
    "\n",
    "while divmod(len(plaintext_normalized), 3)[1]:\n",
    "    plaintext_normalized += \"0\"\n",
    "\n",
    "print(plaintext_normalized)\n",
    "\n",
    "letter_groups = wrap(plaintext_normalized, 3)\n",
    "\n",
    "encoded_groups = []\n",
    "\n",
    "for group in letter_groups:\n",
    "    binary_groups = \"\"\n",
    "    for letter in group:\n",
    "        decrypted_int_letter = base32_crockford.decode(letter)\n",
    "        encrypted_int_letter = decrypted_int_letter ^ base32_crockford.decode(pad.pop(0))\n",
    "        binary_groups += format(encrypted_int_letter, '05b')\n",
    "    encoded_groups += [group_table_send[binary_groups]]\n",
    "\n",
    "#print(encoded_groups)\n",
    "\n",
    "def say_group(group):\n",
    "    group_len = len(group)\n",
    "    group = enumerate(group)\n",
    "    \n",
    "    for num in group:\n",
    "        print(num[1], end='')\n",
    "        if num[0] == group_len - 1:\n",
    "            os.system(f\"afplay {num[1]}final.wav\")\n",
    "        else:\n",
    "            os.system(f\"afplay {num[1]}.wav\")\n",
    "    print(\" \", end='')\n",
    "    time.sleep(1)\n",
    "    \n",
    "    \n",
    "for _ in range(1,3):\n",
    "    print(\"P \", end='')  \n",
    "    # Audio(\"./p.wav\", autoplay=True)\n",
    "    os.system(\"afplay p.wav\")\n",
    "  \n",
    "\n",
    "say_group(str(pad_num))\n",
    "    \n",
    "for _ in range(1,2):\n",
    "    print(\"C \", end='')\n",
    "    os.system(\"afplay c.wav\")\n",
    "\n",
    "for group in encoded_groups:\n",
    "    say_group(group)\n",
    "\n",
    "    \n",
    "for _ in range(1,2):\n",
    "    print(\"C \", end='')\n",
    "    os.system(\"afplay C.wav\")\n",
    "\n",
    "    \n",
    "for _ in range(1,2):\n",
    "    print(\"P \", end='')\n",
    "    os.system(\"afplay p.wav\")\n",
    "\n"
   ]
  },
  {
   "cell_type": "markdown",
   "id": "1a177560",
   "metadata": {},
   "source": [
    "After transcribing a message, change the `pad_num` to the transcribed one and put your formatted number groups in `ciphertext`."
   ]
  },
  {
   "cell_type": "code",
   "execution_count": null,
   "id": "6a46af4c",
   "metadata": {},
   "outputs": [],
   "source": [
    "'''decoder'''\n",
    "\n",
    "pad_num = 23453\n",
    "ciphertext = \"51801 68482 96325 71979 62822 04564 21967 94292\"\n",
    "\n",
    "pad = list(pads[pad_num])\n",
    "\n",
    "encoded_groups = ciphertext.split()\n",
    "\n",
    "for group in encoded_groups:\n",
    "    binary_groups = wrap(group_table_receive[group], 5)\n",
    "    for binary in binary_groups:\n",
    "        encrypted_int_letter = int(binary, 2)\n",
    "        decrypted_int_letter = encrypted_int_letter ^ base32_crockford.decode(pad.pop(0))\n",
    "        letter = base32_crockford.encode(str(decrypted_int_letter))\n",
    "        print(letter, end='')"
   ]
  }
 ],
 "metadata": {
  "kernelspec": {
   "display_name": "Python 3 (ipykernel)",
   "language": "python",
   "name": "python3"
  },
  "language_info": {
   "codemirror_mode": {
    "name": "ipython",
    "version": 3
   },
   "file_extension": ".py",
   "mimetype": "text/x-python",
   "name": "python",
   "nbconvert_exporter": "python",
   "pygments_lexer": "ipython3",
   "version": "3.11.2"
  }
 },
 "nbformat": 4,
 "nbformat_minor": 5
}
